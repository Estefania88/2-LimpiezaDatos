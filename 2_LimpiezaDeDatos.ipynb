{
  "nbformat": 4,
  "nbformat_minor": 0,
  "metadata": {
    "colab": {
      "name": "2-LimpiezaDeDatos.ipynb",
      "provenance": [],
      "authorship_tag": "ABX9TyMaTIEx9a3iaWZDxeyFfkJU",
      "include_colab_link": true
    },
    "kernelspec": {
      "name": "python3",
      "display_name": "Python 3"
    }
  },
  "cells": [
    {
      "cell_type": "markdown",
      "metadata": {
        "id": "view-in-github",
        "colab_type": "text"
      },
      "source": [
        "<a href=\"https://colab.research.google.com/github/Estefania88/2-LimpiezaDatos/blob/main/2_LimpiezaDeDatos.ipynb\" target=\"_parent\"><img src=\"https://colab.research.google.com/assets/colab-badge.svg\" alt=\"Open In Colab\"/></a>"
      ]
    },
    {
      "cell_type": "markdown",
      "metadata": {
        "id": "gZDdynP--FdK"
      },
      "source": [
        "**LIMPIEZA DE DATOS**"
      ]
    },
    {
      "cell_type": "code",
      "metadata": {
        "id": "Z4ECNACA-9mz",
        "outputId": "c169efc6-5d76-4a3e-ce89-35b1f899f9a0",
        "colab": {
          "base_uri": "https://localhost:8080/",
          "height": 85
        }
      },
      "source": [
        "import pandas as pd\n",
        "Location = \"/content/drive/My Drive/Colab Notebooks/datasets/gradedata.csv\"\n",
        "df = pd.read_csv(Location)\n",
        "\n",
        "meangrade = df['grade'].mean()\n",
        "\n",
        "stdgrade = df['grade'].std()\n",
        "\n",
        "toprange = meangrade + stdgrade * 1.96\n",
        "botrange = meangrade - stdgrade * 1.96\n",
        "\n",
        "print(meangrade)\n",
        "print(stdgrade)\n",
        "print(toprange)\n",
        "print(botrange)"
      ],
      "execution_count": null,
      "outputs": [
        {
          "output_type": "stream",
          "text": [
            "82.55605000000001\n",
            "9.74759258371467\n",
            "101.66133146408077\n",
            "63.45076853591926\n"
          ],
          "name": "stdout"
        }
      ]
    }
  ]
}